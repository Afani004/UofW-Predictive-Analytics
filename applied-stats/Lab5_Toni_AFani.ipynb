{
 "cells": [
  {
   "cell_type": "code",
   "execution_count": 1,
   "metadata": {},
   "outputs": [],
   "source": [
    "import numpy as np\n",
    "import matplotlib.pyplot as plt\n",
    "import scipy.stats as st\n",
    "import pandas as pd\n",
    "import math\n",
    "from IPython.display import display"
   ]
  },
  {
   "cell_type": "code",
   "execution_count": 2,
   "metadata": {},
   "outputs": [],
   "source": [
    "#import dataset\n",
    "census_income_df = pd.read_csv('cleaned_census_income.csv')"
   ]
  },
  {
   "attachments": {},
   "cell_type": "markdown",
   "metadata": {},
   "source": [
    "- Hypotheses for Private sector workers earning have an annual Income greater than $50k\n",
    "\n",
    "    Ho: X = 0.25\n",
    "\n",
    "    Ha: X > 0.25"
   ]
  },
  {
   "cell_type": "code",
   "execution_count": 3,
   "metadata": {},
   "outputs": [],
   "source": [
    "#0.425 - 2 * np.sqrt(0.425 * (1-0.425)/2000)"
   ]
  },
  {
   "cell_type": "code",
   "execution_count": 4,
   "metadata": {},
   "outputs": [
    {
     "data": {
      "text/plain": [
       "0.44710769096943415"
      ]
     },
     "execution_count": 4,
     "metadata": {},
     "output_type": "execute_result"
    }
   ],
   "source": [
    "0.425 + 2 * np.sqrt(0.425 * (1-0.425)/2000)"
   ]
  },
  {
   "cell_type": "code",
   "execution_count": 5,
   "metadata": {},
   "outputs": [],
   "source": [
    "# X variable is the number of American adults who work for the Private sector and have an annual Income greater than ‘>50K’\n",
    "X = census_income_df[(census_income_df.workclass =='Private') & (census_income_df.income == '>50K')]\n",
    "\n",
    "#here the number of samples, n, is the length of this sample dataset:\n",
    "n = len(census_income_df)\n",
    "\n",
    "#Calculate the sample proportion for samples of Private workclass earning an annual Income greater than ‘>50K’\n",
    "p_hat = round(len(X)/n, 5)\n",
    "\n",
    "# The test statistic z represents the difference between the sample proportion and the null value measured in standard deviation\n",
    "\n",
    "z_score = round((p_hat - 0.25) / math.sqrt((0.25 * (1 - 0.25)) / n ), 5)"
   ]
  },
  {
   "cell_type": "code",
   "execution_count": 6,
   "metadata": {},
   "outputs": [],
   "source": [
    "# calculates the P(Z <= z_score) using stats.norm.cdf function \n",
    "Z = st.norm.cdf(z_score)\n",
    "    \n",
    "# The probability P(Z > z_score) in this case is also called p-value\n",
    "p_value = 1 - Z\n",
    "\n",
    "# estimated at 95% confidence interva\n",
    "CI = st.norm.ppf(.95).round(5)"
   ]
  },
  {
   "cell_type": "code",
   "execution_count": 7,
   "metadata": {},
   "outputs": [
    {
     "data": {
      "text/html": [
       "<div>\n",
       "<style scoped>\n",
       "    .dataframe tbody tr th:only-of-type {\n",
       "        vertical-align: middle;\n",
       "    }\n",
       "\n",
       "    .dataframe tbody tr th {\n",
       "        vertical-align: top;\n",
       "    }\n",
       "\n",
       "    .dataframe thead th {\n",
       "        text-align: right;\n",
       "    }\n",
       "</style>\n",
       "<table border=\"1\" class=\"dataframe\">\n",
       "  <thead>\n",
       "    <tr style=\"text-align: right;\">\n",
       "      <th></th>\n",
       "      <th>Stats</th>\n",
       "      <th>Value</th>\n",
       "    </tr>\n",
       "  </thead>\n",
       "  <tbody>\n",
       "    <tr>\n",
       "      <th>0</th>\n",
       "      <td>P_hat</td>\n",
       "      <td>0.16166</td>\n",
       "    </tr>\n",
       "    <tr>\n",
       "      <th>1</th>\n",
       "      <td>z_score</td>\n",
       "      <td>-35.43128</td>\n",
       "    </tr>\n",
       "    <tr>\n",
       "      <th>2</th>\n",
       "      <td>p_value</td>\n",
       "      <td>1.00000</td>\n",
       "    </tr>\n",
       "    <tr>\n",
       "      <th>3</th>\n",
       "      <td>alpha</td>\n",
       "      <td>0.05000</td>\n",
       "    </tr>\n",
       "  </tbody>\n",
       "</table>\n",
       "</div>"
      ],
      "text/plain": [
       "     Stats     Value\n",
       "0    P_hat   0.16166\n",
       "1  z_score -35.43128\n",
       "2  p_value   1.00000\n",
       "3    alpha   0.05000"
      ]
     },
     "execution_count": 7,
     "metadata": {},
     "output_type": "execute_result"
    }
   ],
   "source": [
    "# stats date in a dataframe\n",
    "pd.DataFrame([['P_hat', p_hat], ['z_score', z_score],['p_value', p_value], ['alpha', 0.05]], columns=['Stats', 'Value' ])"
   ]
  },
  {
   "attachments": {},
   "cell_type": "markdown",
   "metadata": {},
   "source": [
    "Fail to reject the null hypothesis since the p-value of 1.000 > 0.05, the data does not provide enough evidence to reject Ho.\n",
    "\n",
    "We therefore do not have enough evidence to conclude that the percentage of American adults working for the Private sector and having Income > 50K was very low in the 1990s.\n",
    "\n",
    "---------"
   ]
  },
  {
   "attachments": {},
   "cell_type": "markdown",
   "metadata": {},
   "source": [
    "- Hypotheses for Private sector workers earning have an annual Income greater than $50k\n",
    "\n",
    "    Ho: Y = 0.05\n",
    "\n",
    "    Ha: Y > 0.05"
   ]
  },
  {
   "cell_type": "code",
   "execution_count": 8,
   "metadata": {},
   "outputs": [],
   "source": [
    "# X variable is the number of American adults who work for the Private sector and have an annual Income greater than ‘>50K’\n",
    "Y = census_income_df[(census_income_df.workclass =='Private') & (census_income_df.education == 'Bachelors')]\n",
    "\n",
    "#here the number of samples, n, is the length of this sample dataset:\n",
    "n = len(census_income_df)\n",
    "\n",
    "#Calculate the sample proportion for samples of Private workclass earning an annual Income greater than ‘>50K’\n",
    "p_hat = len(Y)/n\n",
    "\n",
    "# The test statistic z represents the difference between the sample proportion and the null value measured in standard deviation\n",
    "\n",
    "z_score = (p_hat - 0.05) / math.sqrt((0.05 * (1 - 0.05)) / n )"
   ]
  },
  {
   "cell_type": "code",
   "execution_count": 9,
   "metadata": {},
   "outputs": [],
   "source": [
    "# calculates the P(Z <= z_score) using stats.norm.cdf function \n",
    "Z = st.norm.cdf(z_score)\n",
    "    \n",
    "# The probability P(Z > z_score) in this case is also called p-value\n",
    "p_value = 1 - Z\n",
    "\n",
    "# estimated at 95% confidence interva\n",
    "CI = st.norm.ppf(.95).round(5)"
   ]
  },
  {
   "cell_type": "code",
   "execution_count": 10,
   "metadata": {},
   "outputs": [
    {
     "data": {
      "text/html": [
       "<div>\n",
       "<style scoped>\n",
       "    .dataframe tbody tr th:only-of-type {\n",
       "        vertical-align: middle;\n",
       "    }\n",
       "\n",
       "    .dataframe tbody tr th {\n",
       "        vertical-align: top;\n",
       "    }\n",
       "\n",
       "    .dataframe thead th {\n",
       "        text-align: right;\n",
       "    }\n",
       "</style>\n",
       "<table border=\"1\" class=\"dataframe\">\n",
       "  <thead>\n",
       "    <tr style=\"text-align: right;\">\n",
       "      <th></th>\n",
       "      <th>Stats</th>\n",
       "      <th>Value</th>\n",
       "    </tr>\n",
       "  </thead>\n",
       "  <tbody>\n",
       "    <tr>\n",
       "      <th>0</th>\n",
       "      <td>P_hat</td>\n",
       "      <td>0.114548</td>\n",
       "    </tr>\n",
       "    <tr>\n",
       "      <th>1</th>\n",
       "      <td>z_score</td>\n",
       "      <td>51.435951</td>\n",
       "    </tr>\n",
       "    <tr>\n",
       "      <th>2</th>\n",
       "      <td>p_value</td>\n",
       "      <td>0.000000</td>\n",
       "    </tr>\n",
       "    <tr>\n",
       "      <th>3</th>\n",
       "      <td>alpha</td>\n",
       "      <td>0.050000</td>\n",
       "    </tr>\n",
       "  </tbody>\n",
       "</table>\n",
       "</div>"
      ],
      "text/plain": [
       "     Stats      Value\n",
       "0    P_hat   0.114548\n",
       "1  z_score  51.435951\n",
       "2  p_value   0.000000\n",
       "3    alpha   0.050000"
      ]
     },
     "execution_count": 10,
     "metadata": {},
     "output_type": "execute_result"
    }
   ],
   "source": [
    "# stats date in a dataframe\n",
    "pd.DataFrame([['P_hat', p_hat], ['z_score', z_score],['p_value', p_value], ['alpha', 0.05]], columns=['Stats', 'Value' ])"
   ]
  },
  {
   "attachments": {},
   "cell_type": "markdown",
   "metadata": {},
   "source": [
    "We reject the null hypothesis since the p-value of 0.000 < 0.05. The data does not provide enough evidence to reject Ho.\n",
    "\n",
    "We therefore conclude that there is a significant difference between what was observed in the sample and what was claimed in Ho.\n",
    "\n",
    "---------"
   ]
  }
 ],
 "metadata": {
  "kernelspec": {
   "display_name": "labenv",
   "language": "python",
   "name": "python3"
  },
  "language_info": {
   "codemirror_mode": {
    "name": "ipython",
    "version": 3
   },
   "file_extension": ".py",
   "mimetype": "text/x-python",
   "name": "python",
   "nbconvert_exporter": "python",
   "pygments_lexer": "ipython3",
   "version": "3.8.15 (default, Nov 10 2022, 13:17:42) \n[Clang 14.0.6 ]"
  },
  "orig_nbformat": 4,
  "vscode": {
   "interpreter": {
    "hash": "7c4addeee1728477870585b70827b79401185b628300bba29460214aa2999993"
   }
  }
 },
 "nbformat": 4,
 "nbformat_minor": 2
}

{
 "cells": [
  {
   "cell_type": "code",
   "execution_count": 1,
   "metadata": {},
   "outputs": [],
   "source": [
    "import numpy as np\n",
    "import matplotlib.pyplot as plt\n",
    "import scipy.stats as st\n",
    "import pandas as pd\n",
    "import math\n",
    "from IPython.display import display"
   ]
  },
  {
   "cell_type": "code",
   "execution_count": 2,
   "metadata": {},
   "outputs": [],
   "source": [
    "#import dataset\n",
    "census_income_df = pd.read_csv('cleaned_census_income.csv')"
   ]
  },
  {
   "attachments": {},
   "cell_type": "markdown",
   "metadata": {},
   "source": [
    "- Hypotheses for population mean of ages of adult American who work for Private sector and earns an Income greater than $50k\n",
    "\n",
    "    Ho: X = 25\n",
    "\n",
    "    Ha: X > 25"
   ]
  },
  {
   "cell_type": "code",
   "execution_count": 3,
   "metadata": {},
   "outputs": [],
   "source": [
    "# X variable is the number of American adults who work for the Private sector and have an annual Income greater than ‘>50K’\n",
    "X = census_income_df[(census_income_df.workclass =='Private') & (census_income_df.income == '>50K')]\n",
    "\n",
    "#here the number of samples, n, is the length of this sample dataset:\n",
    "n = X.age.count()\n",
    "\n",
    "#Calculate the sample proportion for samples of Private workclass earning an annual Income greater than ‘>50K’\n",
    "X_bar = X.age.mean()\n",
    "\n",
    "# The test statistic z represents the difference between the sample proportion and the null value measured in standard deviation\n",
    "s = X.age.std()\n",
    "\n",
    "#critical value @ 95% confidence interval\n",
    "cv = (1-0.95)/2"
   ]
  },
  {
   "cell_type": "code",
   "execution_count": 4,
   "metadata": {},
   "outputs": [],
   "source": [
    "# Estimate the confidence interval for ages of the US adult population who worked for the Private sector in the 1990s:\n",
    "t_asterisk = st.t.ppf(q= 1 - cv, df= n - 1).round(5)\n",
    "\n",
    "# The age confidence interval of the US adult population who worked for the Private sector in the 1990s\n",
    "pop_mean_X = round((X_bar - t_asterisk * s/np.sqrt(n)), 5), round((X_bar + t_asterisk * s/np.sqrt(n)), 5)"
   ]
  },
  {
   "cell_type": "code",
   "execution_count": 5,
   "metadata": {},
   "outputs": [],
   "source": [
    "# point estimation for population mean of X\n",
    "t_score = (X_bar - 25) / (s / np.sqrt(n))\n",
    "\n",
    "# The probability P(Z > z_score) in this case is also called p-value\n",
    "p_value = 1 - st.t.cdf(x = t_score, df = n-1)"
   ]
  },
  {
   "cell_type": "code",
   "execution_count": 6,
   "metadata": {},
   "outputs": [
    {
     "data": {
      "text/html": [
       "<div>\n",
       "<style scoped>\n",
       "    .dataframe tbody tr th:only-of-type {\n",
       "        vertical-align: middle;\n",
       "    }\n",
       "\n",
       "    .dataframe tbody tr th {\n",
       "        vertical-align: top;\n",
       "    }\n",
       "\n",
       "    .dataframe thead th {\n",
       "        text-align: right;\n",
       "    }\n",
       "</style>\n",
       "<table border=\"1\" class=\"dataframe\">\n",
       "  <thead>\n",
       "    <tr style=\"text-align: right;\">\n",
       "      <th></th>\n",
       "      <th>Stats</th>\n",
       "      <th>Value</th>\n",
       "    </tr>\n",
       "  </thead>\n",
       "  <tbody>\n",
       "    <tr>\n",
       "      <th>0</th>\n",
       "      <td>X ci</td>\n",
       "      <td>(42.54007, 43.10021)</td>\n",
       "    </tr>\n",
       "    <tr>\n",
       "      <th>1</th>\n",
       "      <td>t_asterisk</td>\n",
       "      <td>1.96045</td>\n",
       "    </tr>\n",
       "    <tr>\n",
       "      <th>2</th>\n",
       "      <td>t_score</td>\n",
       "      <td>124.738531</td>\n",
       "    </tr>\n",
       "    <tr>\n",
       "      <th>3</th>\n",
       "      <td>p_value</td>\n",
       "      <td>0.0</td>\n",
       "    </tr>\n",
       "    <tr>\n",
       "      <th>4</th>\n",
       "      <td>alpha</td>\n",
       "      <td>0.05</td>\n",
       "    </tr>\n",
       "  </tbody>\n",
       "</table>\n",
       "</div>"
      ],
      "text/plain": [
       "        Stats                 Value\n",
       "0        X ci  (42.54007, 43.10021)\n",
       "1  t_asterisk               1.96045\n",
       "2     t_score            124.738531\n",
       "3     p_value                   0.0\n",
       "4       alpha                  0.05"
      ]
     },
     "execution_count": 6,
     "metadata": {},
     "output_type": "execute_result"
    }
   ],
   "source": [
    "# stats date in a dataframe\n",
    "pd.DataFrame([['X ci', pop_mean_X],['t_asterisk', t_asterisk],['t_score', t_score],['p_value', p_value], ['alpha', 0.05]], columns=['Stats', 'Value' ])"
   ]
  },
  {
   "attachments": {},
   "cell_type": "markdown",
   "metadata": {},
   "source": [
    "We reject the null hypothesis since the p-value of 0.000 < 0.05. The data does not provide enough evidence to reject Ho.\n",
    "\n",
    "We therefore conclude that there is a significant difference between what was observed in the sample and what was claimed in Ho.\n",
    "\n",
    "---------"
   ]
  },
  {
   "attachments": {},
   "cell_type": "markdown",
   "metadata": {},
   "source": [
    "- Hypotheses for average number of education years‘education.num’ of American adults\n",
    "\n",
    "    Ho: Y = 3 years\n",
    "\n",
    "    Ha: Y > 3 years"
   ]
  },
  {
   "cell_type": "code",
   "execution_count": 7,
   "metadata": {},
   "outputs": [],
   "source": [
    "# X variable is the number of American adults who work for the Private sector and have an annual Income greater than ‘>50K’\n",
    "Y = census_income_df[(census_income_df.workclass =='Private') & (census_income_df.income == '>50K')]\n",
    "\n",
    "#here the number of samples, n, is the length of this sample dataset:\n",
    "n = Y['education.num'].count()\n",
    "\n",
    "#Calculate the sample proportion for samples of Private workclass earning an annual Income greater than ‘>50K’\n",
    "Y_bar = Y['education.num'].mean()\n",
    "\n",
    "# The test statistic z represents the difference between the sample proportion and the null value measured in standard deviation\n",
    "s = Y['education.num'].std()\n",
    "\n",
    "#critical value @ 95% confidence interval\n",
    "cv = (1-0.95)/2"
   ]
  },
  {
   "cell_type": "code",
   "execution_count": 8,
   "metadata": {},
   "outputs": [],
   "source": [
    "# Based on the sample dataset, estimate point estimation for population mean of Y\n",
    "t_asterisk = st.t.ppf(q= 1 - cv, df= n - 1).round(5)\n",
    "\n",
    "# Based on the sample dataset, estimate 95% confidence interval for population mean of Y\n",
    "pop_mean_Y = round((Y_bar - t_asterisk * s/np.sqrt(n)),5), round((Y_bar + t_asterisk * s/np.sqrt(n)), 5)"
   ]
  },
  {
   "cell_type": "code",
   "execution_count": 9,
   "metadata": {},
   "outputs": [],
   "source": [
    "# point estimation for population mean of X\n",
    "t_score = (Y_bar - 3) / (s / np.sqrt(n))\n",
    "\n",
    "# The probability P(Z > z_score) in this case is also called p-value\n",
    "p_value = 1 - st.t.cdf(x = t_score, df = n-1)"
   ]
  },
  {
   "cell_type": "code",
   "execution_count": 10,
   "metadata": {},
   "outputs": [
    {
     "data": {
      "text/html": [
       "<div>\n",
       "<style scoped>\n",
       "    .dataframe tbody tr th:only-of-type {\n",
       "        vertical-align: middle;\n",
       "    }\n",
       "\n",
       "    .dataframe tbody tr th {\n",
       "        vertical-align: top;\n",
       "    }\n",
       "\n",
       "    .dataframe thead th {\n",
       "        text-align: right;\n",
       "    }\n",
       "</style>\n",
       "<table border=\"1\" class=\"dataframe\">\n",
       "  <thead>\n",
       "    <tr style=\"text-align: right;\">\n",
       "      <th></th>\n",
       "      <th>Stats</th>\n",
       "      <th>Value</th>\n",
       "    </tr>\n",
       "  </thead>\n",
       "  <tbody>\n",
       "    <tr>\n",
       "      <th>0</th>\n",
       "      <td>Y_ci</td>\n",
       "      <td>(11.35207, 11.48017)</td>\n",
       "    </tr>\n",
       "    <tr>\n",
       "      <th>1</th>\n",
       "      <td>t_asterisk</td>\n",
       "      <td>1.96045</td>\n",
       "    </tr>\n",
       "    <tr>\n",
       "      <th>2</th>\n",
       "      <td>t_score</td>\n",
       "      <td>257.601142</td>\n",
       "    </tr>\n",
       "    <tr>\n",
       "      <th>3</th>\n",
       "      <td>p_value</td>\n",
       "      <td>0.0</td>\n",
       "    </tr>\n",
       "    <tr>\n",
       "      <th>4</th>\n",
       "      <td>alpha</td>\n",
       "      <td>0.05</td>\n",
       "    </tr>\n",
       "  </tbody>\n",
       "</table>\n",
       "</div>"
      ],
      "text/plain": [
       "        Stats                 Value\n",
       "0        Y_ci  (11.35207, 11.48017)\n",
       "1  t_asterisk               1.96045\n",
       "2     t_score            257.601142\n",
       "3     p_value                   0.0\n",
       "4       alpha                  0.05"
      ]
     },
     "execution_count": 10,
     "metadata": {},
     "output_type": "execute_result"
    }
   ],
   "source": [
    "# stats date in a dataframe\n",
    "pd.DataFrame([['Y_ci', pop_mean_Y],['t_asterisk', t_asterisk],['t_score', t_score],['p_value', p_value], ['alpha', 0.05]], columns=['Stats', 'Value' ])"
   ]
  },
  {
   "attachments": {},
   "cell_type": "markdown",
   "metadata": {},
   "source": [
    "We reject the null hypothesis since the p-value of 0.000 < 0.05. The data does not provide enough evidence to reject Ho.\n",
    "\n",
    "We therefore conclude that there is a significant difference between what was observed in the sample and what was claimed in Ho.\n",
    "\n",
    "---------"
   ]
  },
  {
   "cell_type": "markdown",
   "metadata": {},
   "source": []
  }
 ],
 "metadata": {
  "kernelspec": {
   "display_name": "labenv",
   "language": "python",
   "name": "python3"
  },
  "language_info": {
   "codemirror_mode": {
    "name": "ipython",
    "version": 3
   },
   "file_extension": ".py",
   "mimetype": "text/x-python",
   "name": "python",
   "nbconvert_exporter": "python",
   "pygments_lexer": "ipython3",
   "version": "3.8.15"
  },
  "orig_nbformat": 4,
  "vscode": {
   "interpreter": {
    "hash": "7c4addeee1728477870585b70827b79401185b628300bba29460214aa2999993"
   }
  }
 },
 "nbformat": 4,
 "nbformat_minor": 2
}

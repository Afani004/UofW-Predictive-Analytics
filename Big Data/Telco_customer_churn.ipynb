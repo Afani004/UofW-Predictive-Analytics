{
 "cells": [
  {
   "attachments": {},
   "cell_type": "markdown",
   "metadata": {
    "collapsed": true
   },
   "source": [
    "## PROJECT: Predicting Customer Churn\n",
    "\n",
    "It costs money for any business to lose customers. You can give customers incentives to stay if you catch them early on when they are unhappy. We use a well-known illustration of churn: customers leaving an operator of mobile phones. \n",
    "\n",
    "It appears that one can always criticize their current provider! And if the service provider is aware that a customer is considering leaving, it can provide timely incentives, such as a phone upgrade or the activation of a new feature, to encourage the customer to remain. Often, incentives are much cheaper than losing and regaining a customer.\n",
    "\n",
    "This notebook explains how to automate the identification of dissatisfied customers using machine learning (ML), also known as customer churn prediction. This notebook also discusses how to account for the relative costs of prediction errors when determining the financial outcome of using ML because ML models rarely provide perfect predictions.\n",
    "\n"
   ]
  },
  {
   "cell_type": "code",
   "execution_count": 24,
   "metadata": {},
   "outputs": [],
   "source": [
    "# import findpask library to enable us import pyspark libraries easily.\n",
    "import findspark\n",
    "findspark.init()\n",
    "\n",
    "import pandas as pd\n",
    "# Spark Session module is imported with the pyspark.sql library\n",
    "from pyspark.sql import SparkSession\n",
    "from pyspark.sql.functions import regexp_replace "
   ]
  },
  {
   "cell_type": "code",
   "execution_count": 25,
   "metadata": {
    "collapsed": true
   },
   "outputs": [],
   "source": [
    "# the SparkSession builder and getOrCreate() methods are used respectively for building and creating the app \n",
    "spark = SparkSession.builder.appName('Churn_pred').getOrCreate()\n",
    "\n",
    "# we will be reading our dataset which includes all the features to predict customers who are likely to churn \n",
    "raw = spark.read.csv('churn.txt',inferSchema=True, header=True)"
   ]
  },
  {
   "attachments": {},
   "cell_type": "markdown",
   "metadata": {},
   "source": [
    "### Let’s explore and clean the dataset"
   ]
  },
  {
   "cell_type": "code",
   "execution_count": 26,
   "metadata": {},
   "outputs": [],
   "source": [
    "# To remove the dots and spaces from the Churn? column \n",
    "# after we wuold drop the old Churn? column\n",
    "data = raw.withColumn(\"Churn\", regexp_replace(\"Churn?\", \"[\\\\. ]\", \"\")).drop('Churn?')"
   ]
  },
  {
   "attachments": {},
   "cell_type": "markdown",
   "metadata": {},
   "source": [
    "## Data Exploration"
   ]
  },
  {
   "cell_type": "code",
   "execution_count": 27,
   "metadata": {},
   "outputs": [
    {
     "name": "stdout",
     "output_type": "stream",
     "text": [
      "root\n",
      " |-- State: string (nullable = true)\n",
      " |-- Account Length: integer (nullable = true)\n",
      " |-- Area Code: integer (nullable = true)\n",
      " |-- Phone: string (nullable = true)\n",
      " |-- Int'l Plan: string (nullable = true)\n",
      " |-- VMail Plan: string (nullable = true)\n",
      " |-- VMail Message: integer (nullable = true)\n",
      " |-- Day Mins: double (nullable = true)\n",
      " |-- Day Calls: integer (nullable = true)\n",
      " |-- Day Charge: double (nullable = true)\n",
      " |-- Eve Mins: double (nullable = true)\n",
      " |-- Eve Calls: integer (nullable = true)\n",
      " |-- Eve Charge: double (nullable = true)\n",
      " |-- Night Mins: double (nullable = true)\n",
      " |-- Night Calls: integer (nullable = true)\n",
      " |-- Night Charge: double (nullable = true)\n",
      " |-- Intl Mins: double (nullable = true)\n",
      " |-- Intl Calls: integer (nullable = true)\n",
      " |-- Intl Charge: double (nullable = true)\n",
      " |-- CustServ Calls: integer (nullable = true)\n",
      " |-- Churn: string (nullable = true)\n",
      "\n",
      "Number of fields:  21\n"
     ]
    }
   ],
   "source": [
    "# Explore the loaded data by using the following Apache Spark DataFrame methods\n",
    "data.printSchema()\n",
    "print(\"Number of fields: %3g\" % len(data.schema))"
   ]
  },
  {
   "attachments": {},
   "cell_type": "markdown",
   "metadata": {},
   "source": [
    "As you can see, the data contains 21 fields. \"Churn\" field is the one you would like to predict (label)."
   ]
  },
  {
   "cell_type": "code",
   "execution_count": 28,
   "metadata": {},
   "outputs": [
    {
     "name": "stdout",
     "output_type": "stream",
     "text": [
      "+-----+--------------+---------+--------+----------+----------+-------------+------------------+---------+------------------+------------------+---------+------------------+------------------+-----------+------------------+------------------+----------+-------------------+--------------+-----+\n",
      "|State|Account Length|Area Code|   Phone|Int'l Plan|VMail Plan|VMail Message|          Day Mins|Day Calls|        Day Charge|          Eve Mins|Eve Calls|        Eve Charge|        Night Mins|Night Calls|      Night Charge|         Intl Mins|Intl Calls|        Intl Charge|CustServ Calls|Churn|\n",
      "+-----+--------------+---------+--------+----------+----------+-------------+------------------+---------+------------------+------------------+---------+------------------+------------------+-----------+------------------+------------------+----------+-------------------+--------------+-----+\n",
      "|   PA|           163|      806|403-2562|        no|       yes|          300|   8.1622040217391|        3| 7.579173703343681|3.9330349941938625|        4| 6.508638877091394| 4.065759457683862|        100|5.1116239145545554|4.9281602056057885|         6|  5.673203040696216|             3| True|\n",
      "|   SC|            15|      836|158-8416|       yes|        no|            0|10.018992664834252|        4| 4.226288822198435|2.3250045529370977|        0|  9.97259241534841| 7.141039871521733|        200| 6.436187619334115|3.2217476231887012|         6|  2.559749162329034|             8|False|\n",
      "|   MO|           131|      777|896-6253|        no|       yes|          300| 4.708489916519045|        3| 4.768159882372771|  4.53746627560553|        3| 4.566714501754875| 5.363234681368032|        100| 5.142450865432122| 7.139023052596313|         2|  6.254156588270942|             4|False|\n",
      "|   WY|            75|      878|817-5729|       yes|       yes|          700|1.2687337723540173|        3| 2.567641585633793| 2.528747882267883|        5|2.3336236298897663| 3.773585578112562|        450|3.8144134221879837| 2.245779327608127|         6| 1.0806920414898902|             6|False|\n",
      "|   WY|           146|      878|450-4942|       yes|        no|            0| 2.696177237539812|        3| 5.908915868906159| 6.015337072056723|        3|3.6704077483598114|3.7516733722962083|        250|2.7968119977118326| 6.905545285710016|         4|  7.134342911307563|             6| True|\n",
      "|   VA|            83|      866|454-9110|        no|        no|            0|3.6347759671675437|        7| 4.804891886787017|  6.05194433617822|        5| 5.278436964531922| 2.937879986797766|        300| 4.817958439785448| 4.948816088347728|         4|   5.13532274057697|             5|False|\n",
      "|   IN|           140|      737|331-5751|       yes|        no|            0|3.2294202559197576|        4|3.1650820605916827| 2.440152809792223|        8|0.2645430898924843|2.3522738978288897|        300|3.8691763484913535| 5.393439248879196|         4|  1.784764820129817|             4|False|\n",
      "|   LA|            54|      766|871-3612|        no|        no|            0|0.5679201829579954|        6| 1.950098388177361| 4.507026828401553|        0| 4.473085755958401|0.6887851476456044|        400| 6.132136688828527|5.0127472409617235|         5|0.41742093904546174|             8|False|\n",
      "|   MO|           195|      777|249-5723|       yes|        no|            0| 5.811115761837079|        6|4.3310650166800375| 8.104126146210893|        2| 4.475034292704634| 4.208352014531881|        250| 5.974575349503846| 4.750152912633531|         7|  3.320310789878026|             7| True|\n",
      "|   AL|           104|      657|767-7682|       yes|        no|            0| 2.714429979003967|        7|5.1386692037471695| 8.529943776515548|        6|3.3211210082053513| 2.342176971074203|        300|  4.32896574277208|3.4335541816306137|         5|  5.677057853136211|             4|False|\n",
      "+-----+--------------+---------+--------+----------+----------+-------------+------------------+---------+------------------+------------------+---------+------------------+------------------+-----------+------------------+------------------+----------+-------------------+--------------+-----+\n",
      "only showing top 10 rows\n",
      "\n",
      "+-------+-----+-----------------+------------------+--------+----------+----------+------------------+--------------------+------------------+--------------------+--------------------+------------------+--------------------+--------------------+-----------------+-------------------+------------------+------------------+--------------------+------------------+-----+\n",
      "|summary|State|   Account Length|         Area Code|   Phone|Int'l Plan|VMail Plan|     VMail Message|            Day Mins|         Day Calls|          Day Charge|            Eve Mins|         Eve Calls|          Eve Charge|          Night Mins|      Night Calls|       Night Charge|         Intl Mins|        Intl Calls|         Intl Charge|    CustServ Calls|Churn|\n",
      "+-------+-----+-----------------+------------------+--------+----------+----------+------------------+--------------------+------------------+--------------------+--------------------+------------------+--------------------+--------------------+-----------------+-------------------+------------------+------------------+--------------------+------------------+-----+\n",
      "|  count| 5000|             5000|              5000|    5000|      5000|      5000|              5000|                5000|              5000|                5000|                5000|              5000|                5000|                5000|             5000|               5000|              5000|              5000|                5000|              5000| 5000|\n",
      "|   mean| null|         101.6758|          773.7914|    null|      null|      null|            226.68|   5.518757258579915|            3.5046|   5.018901914991867|    5.02619945250527|            3.1404|   5.017557346116698|   4.000916871562325|           224.79| 5.0234902590922195| 5.025875973454637|            5.4754|   4.328242292448862|            5.5258| null|\n",
      "| stddev| null|57.59676181656695|63.470887789279885|    null|      null|      null|273.99852670868086|   3.433485279955885|1.6881198979213372|   2.195759080677199|  2.1354867098849595|2.5256214270390087|  2.1278565213314575|   1.631001478130649|97.30287493128863| 1.7488997526534562| 1.019302261236463|1.8770454176444373|   2.440310567217348|2.0412172039091567| null|\n",
      "|    min|   AK|                1|               657|100-2030|        no|        no|                 0|2.148017674441504...|                 0|0.004776778632077594|0.004659300174385095|                 0|0.013572801484325936|0.008467736721087249|                0|0.05486252011786785|1.6485135544570038|                 0|7.693995991067126E-4|                 0|False|\n",
      "|    max|   WY|              200|               878|999-9817|       yes|       yes|              1300|  16.897529354153928|                10|  12.731935950456766|  13.622096683112519|                14|  12.352870956791019|  10.183378466554196|              550| 10.407778426496758|  8.40564379161104|                12|  14.212260543164067|                13| True|\n",
      "+-------+-----+-----------------+------------------+--------+----------+----------+------------------+--------------------+------------------+--------------------+--------------------+------------------+--------------------+--------------------+-----------------+-------------------+------------------+------------------+--------------------+------------------+-----+\n",
      "\n",
      "Total number of records: 5000\n"
     ]
    }
   ],
   "source": [
    "# describing the dataset\n",
    "data.show(10)\n",
    "data.describe().show()\n",
    "print(\"Total number of records: \" + str(data.count()))"
   ]
  },
  {
   "cell_type": "code",
   "execution_count": 29,
   "metadata": {},
   "outputs": [
    {
     "name": "stdout",
     "output_type": "stream",
     "text": [
      "Number of records with complete data: 5000\n",
      "+-----+-----+\n",
      "|Churn|count|\n",
      "+-----+-----+\n",
      "|False| 2502|\n",
      "| True| 2498|\n",
      "+-----+-----+\n",
      "\n"
     ]
    }
   ],
   "source": [
    "# checking if all records have complete data.\n",
    "complete = data.dropna()\n",
    "print(\"Number of records with complete data: %3g\" % complete.count())\n",
    "\n",
    "# Inspect the class distribution in the label column.\n",
    "data.groupBy('Churn').count().show()"
   ]
  },
  {
   "cell_type": "code",
   "execution_count": 30,
   "metadata": {},
   "outputs": [
    {
     "name": "stdout",
     "output_type": "stream",
     "text": [
      "+-----+-----------+-------+----------+\n",
      "|State|total_churn|churned|churn_rate|\n",
      "+-----+-----------+-------+----------+\n",
      "|   NY|         98|     60|     0.612|\n",
      "|   OH|        111|     63|     0.568|\n",
      "|   AZ|         90|     51|     0.567|\n",
      "|   MD|        113|     64|     0.566|\n",
      "|   CT|         89|     50|     0.562|\n",
      "|   NE|        109|     61|      0.56|\n",
      "|   IA|        103|     57|     0.553|\n",
      "|   NC|         95|     52|     0.547|\n",
      "|   ME|         74|     40|     0.541|\n",
      "|   AK|         85|     46|     0.541|\n",
      "+-----+-----------+-------+----------+\n",
      "only showing top 10 rows\n",
      "\n"
     ]
    }
   ],
   "source": [
    "# Import necessary modules\n",
    "from pyspark.sql.functions import count, when, round, desc\n",
    "\n",
    "# Filter out irrelevant columns and rows\n",
    "df = data.select(\"State\", \"Churn\")\n",
    "df = df.filter(\"Churn == 'True' or Churn == 'False'\")\n",
    "\n",
    "# Aggregate the data by state and calculate churn rate\n",
    "churn_state = df.groupBy(\"State\").agg(\n",
    "    count(\"Churn\").alias(\"total_churn\"),\n",
    "    count(when(df.Churn == \"True\", True)).alias(\"churned\"),\n",
    ")\n",
    "churn_state = churn_state.withColumn( \"churn_rate\", round(churn_state.churned / churn_state.total_churn, 3))\n",
    "\n",
    "# Sort the results in descending order of churn rate\n",
    "sorted_churn = churn_state.orderBy(desc(\"churn_rate\"))\n",
    "\n",
    "# Show the top 10 states with the highest churn rate\n",
    "sorted_churn.show(10)"
   ]
  },
  {
   "cell_type": "code",
   "execution_count": 31,
   "metadata": {},
   "outputs": [
    {
     "name": "stderr",
     "output_type": "stream",
     "text": [
      "/opt/anaconda3/lib/python3.8/site-packages/scipy/__init__.py:146: UserWarning:\n",
      "\n",
      "A NumPy version >=1.16.5 and <1.23.0 is required for this version of SciPy (detected version 1.24.2\n",
      "\n"
     ]
    }
   ],
   "source": [
    "### we would use the Plotly package to explore the prediction results.\n",
    "import os\n",
    "import sys\n",
    "import plotly.graph_objs as go\n",
    "import plotly.offline as pyo\n",
    "from plotly.offline import download_plotlyjs, init_notebook_mode, plot, iplot\n",
    "import cufflinks as cf\n",
    "import plotly.graph_objs as go"
   ]
  },
  {
   "attachments": {},
   "cell_type": "markdown",
   "metadata": {},
   "source": [
    "### Feature Selection\n",
    "    feature selection is one of the most important steps in data preprocessing where we select all the features that based on our knowledge would be the best fit for the model development phase. Hence here all the valid numerical columns will be taken into account."
   ]
  },
  {
   "cell_type": "code",
   "execution_count": 32,
   "metadata": {},
   "outputs": [
    {
     "name": "stdout",
     "output_type": "stream",
     "text": [
      "Number of records for training: 4005\n",
      "Number of records for evaluation: 901\n",
      "Number of records for prediction: 94\n"
     ]
    }
   ],
   "source": [
    "(train_data, test_data, predict_data) = data.randomSplit([0.8, 0.18, 0.02], 24)\n",
    "\n",
    "print(\"Number of records for training: \" + str(train_data.count()))\n",
    "print(\"Number of records for evaluation: \" + str(test_data.count()))\n",
    "print(\"Number of records for prediction: \" + str(predict_data.count()))"
   ]
  },
  {
   "cell_type": "code",
   "execution_count": 33,
   "metadata": {},
   "outputs": [],
   "source": [
    "from pyspark.ml.feature import StringIndexer, IndexToString, VectorAssembler, StandardScaler\n",
    "from pyspark.ml.evaluation import MulticlassClassificationEvaluator\n",
    "from pyspark.ml.classification import LogisticRegression, RandomForestClassifier\n",
    "\n",
    "from pyspark.ml import Pipeline, Model"
   ]
  },
  {
   "cell_type": "code",
   "execution_count": 34,
   "metadata": {},
   "outputs": [],
   "source": [
    "# Converting labels from strings into integers\n",
    "indexer = StringIndexer(inputCol=\"Churn\", outputCol= 'label').setHandleInvalid(\"keep\")\n",
    "indexer_model = indexer.fit( data)"
   ]
  },
  {
   "cell_type": "code",
   "execution_count": 35,
   "metadata": {},
   "outputs": [],
   "source": [
    "# assemble feature columns into one column\n",
    "assemble = VectorAssembler(inputCols=['Account Length', 'Area Code', 'VMail Message', 'Day Mins', 'Day Calls', 'Day Charge', 'Eve Mins', 'Eve Calls', 'Eve Charge', 'Night Mins', 'Night Calls', 'Night Charge', 'Intl Mins', 'Intl Calls', 'Intl Charge', 'CustServ Calls'], outputCol='features')\n",
    "\n",
    "# normalize/scale the values of the feature\n",
    "# This is useless for decision trees\n",
    "scale = StandardScaler(inputCol='features', outputCol='scaled_features')\n",
    "\n",
    "# To convert the predicted numerical labels back to country names  \n",
    "converter = IndexToString(inputCol=\"label\", outputCol=\"predicted_churn\", labels=indexer_model.labels)"
   ]
  },
  {
   "attachments": {},
   "cell_type": "markdown",
   "metadata": {},
   "source": [
    "#### We trained the random forest model using the previously defined pipeline and train data"
   ]
  },
  {
   "cell_type": "code",
   "execution_count": 36,
   "metadata": {},
   "outputs": [],
   "source": [
    "# used random forest to define estimators you want to use for classification. \n",
    "rf = RandomForestClassifier(numTrees=1,maxDepth=30, featureSubsetStrategy=\"all\", featuresCol=\"features\", labelCol=\"label\")\n",
    "\n",
    "# Now build the pipeline. A pipeline consists of transformers and an estimator.\n",
    "pipeline = Pipeline(stages=[indexer, assemble, scale, rf,converter])\n",
    "\n",
    "# you can train your Logistic Regression model by using the previously defined pipeline and train data.\n",
    "model = pipeline.fit(train_data)"
   ]
  },
  {
   "cell_type": "code",
   "execution_count": 37,
   "metadata": {},
   "outputs": [
    {
     "name": "stdout",
     "output_type": "stream",
     "text": [
      "Test dataset:\n",
      "Accuracy = 0.87\n",
      "Error = 0.126526\n"
     ]
    }
   ],
   "source": [
    "# Evaluate the accuracy of the model\n",
    "predictions = model.transform(test_data)\n",
    "evaluator = MulticlassClassificationEvaluator(labelCol=\"label\", predictionCol=\"prediction\", metricName=\"accuracy\")\n",
    "accuracy = evaluator.evaluate(predictions)\n",
    "\n",
    "# Print the accuracy of the model on the test data\n",
    "print(\"Test dataset:\")\n",
    "print(\"Accuracy = %3.2f\" % accuracy)\n",
    "print(\"Error = %g\" % (1.0 - accuracy))"
   ]
  },
  {
   "attachments": {},
   "cell_type": "markdown",
   "metadata": {},
   "source": [
    "#### Also train the Logistic Regression model using the previously defined pipeline and train data"
   ]
  },
  {
   "cell_type": "code",
   "execution_count": 38,
   "metadata": {},
   "outputs": [
    {
     "name": "stdout",
     "output_type": "stream",
     "text": [
      "Test dataset:\n",
      "Accuracy = 0.87\n",
      "Error = 0.126526\n"
     ]
    }
   ],
   "source": [
    "# used logistic Regression to define estimators you want to use for classification. \n",
    "lr = LogisticRegression(maxIter=10, featuresCol=\"features\", labelCol=\"label\")\n",
    "\n",
    "# Now build the pipeline. A pipeline consists of transformers and an estimator.\n",
    "lr_pipeline = Pipeline(stages=[indexer, assemble, scale, lr,converter])\n",
    "\n",
    "# you can train your Logistic Regression model by using the previously defined pipeline and train data.\n",
    "lr_model = lr_pipeline.fit(train_data)\n",
    "\n",
    "# Evaluate the accuracy of the model\n",
    "lr_predictions = model.transform(test_data)\n",
    "lr_evaluator = MulticlassClassificationEvaluator(labelCol=\"label\", predictionCol=\"prediction\", metricName=\"accuracy\")\n",
    "lr_accuracy = lr_evaluator.evaluate(lr_predictions)\n",
    "\n",
    "# Print the accuracy of the model on the test data\n",
    "print(\"Test dataset:\")\n",
    "print(\"Accuracy = %3.2f\" % accuracy)\n",
    "print(\"Error = %g\" % (1.0 - accuracy))"
   ]
  },
  {
   "cell_type": "code",
   "execution_count": 39,
   "metadata": {},
   "outputs": [
    {
     "name": "stdout",
     "output_type": "stream",
     "text": [
      "+-----+--------------+---------+--------+----------+----------+-------------+------------------+---------+-----------------+------------------+---------+------------------+------------------+-----------+------------------+------------------+----------+------------------+--------------+-----+-----+--------------------+--------------------+-------------+-------------+----------+---------------+\n",
      "|State|Account Length|Area Code|   Phone|Int'l Plan|VMail Plan|VMail Message|          Day Mins|Day Calls|       Day Charge|          Eve Mins|Eve Calls|        Eve Charge|        Night Mins|Night Calls|      Night Charge|         Intl Mins|Intl Calls|       Intl Charge|CustServ Calls|Churn|label|            features|     scaled_features|rawPrediction|  probability|prediction|predicted_churn|\n",
      "+-----+--------------+---------+--------+----------+----------+-------------+------------------+---------+-----------------+------------------+---------+------------------+------------------+-----------+------------------+------------------+----------+------------------+--------------+-----+-----+--------------------+--------------------+-------------+-------------+----------+---------------+\n",
      "|   AK|            25|      657|103-5500|        no|        no|            0|10.521011013140903|        2|  7.9891888636656| 8.011844379528885|        3| 7.203734128031624| 5.216069741545327|        250| 5.432289775959766|3.8872648216108407|         6| 7.163505418179902|             3| True|  1.0|[25.0,657.0,0.0,1...|[0.43288651357198...|[0.0,1.0,0.0]|[0.0,1.0,0.0]|       1.0|           True|\n",
      "|   AK|            37|      657|215-5724|       yes|        no|            0| 8.238973179346385|        2|6.468598586821403|3.9915822591781605|        3| 6.785254877188995|  7.72826771576443|        250| 4.324624917481602| 4.734319131032962|         6| 5.855252973800908|             5|False|  0.0|[37.0,657.0,0.0,8...|[0.64067204008653...|[1.0,0.0,0.0]|[1.0,0.0,0.0]|       0.0|          False|\n",
      "|   AK|            51|      657|573-2481|       yes|       yes|            0|  8.03785547407502|        4|6.555691302508134| 5.523507323549699|        5| 4.642962163504993| 4.428349922522934|        200| 8.806191965635316| 4.319411027267177|         5|1.0675171120966898|             8| True|  1.0|[51.0,657.0,0.0,8...|[0.88308848768684...|[1.0,0.0,0.0]|[1.0,0.0,0.0]|       0.0|           True|\n",
      "|   AK|            53|      657|629-6306|        no|        no|            0|1.0780429009118757|        4|4.712020909375429| 7.858201362902134|        5|2.5030229508936985| 4.179150022098962|        300|2.0454130968471906| 5.590275835950651|         4| 9.607793825400167|             2|False|  0.0|[53.0,657.0,0.0,1...|[0.91771940877259...|[1.0,0.0,0.0]|[1.0,0.0,0.0]|       0.0|          False|\n",
      "|   AK|           105|      657|600-3967|       yes|        no|            0|10.254886910986318|        4|6.261717005866492|   9.6230010596322|        1| 7.734426423494495|2.2160998524076723|        250| 6.978859081551264| 5.029987001446467|         7| 5.357433093604234|             6| True|  1.0|[105.0,657.0,0.0,...|[1.81812335700231...|[0.0,1.0,0.0]|[0.0,1.0,0.0]|       1.0|           True|\n",
      "+-----+--------------+---------+--------+----------+----------+-------------+------------------+---------+-----------------+------------------+---------+------------------+------------------+-----------+------------------+------------------+----------+------------------+--------------+-----+-----+--------------------+--------------------+-------------+-------------+----------+---------------+\n",
      "only showing top 5 rows\n",
      "\n"
     ]
    }
   ],
   "source": [
    "# Preview the previouse predictions by calling the show() method\n",
    "predictions = model.transform(test_data)\n",
    "predictions.show(5)"
   ]
  },
  {
   "cell_type": "code",
   "execution_count": 40,
   "metadata": {},
   "outputs": [
    {
     "name": "stdout",
     "output_type": "stream",
     "text": [
      "+----------+-----+\n",
      "|prediction|count|\n",
      "+----------+-----+\n",
      "|0.0       |453  |\n",
      "|1.0       |448  |\n",
      "+----------+-----+\n",
      "\n"
     ]
    }
   ],
   "source": [
    "# we can see the split between the labels by tabulating a count\n",
    "predictions.select(\"prediction\").groupBy(\"prediction\").count().show(truncate=False)"
   ]
  },
  {
   "attachments": {},
   "cell_type": "markdown",
   "metadata": {},
   "source": [
    "### Data visualization using Plotly"
   ]
  },
  {
   "cell_type": "code",
   "execution_count": 41,
   "metadata": {},
   "outputs": [],
   "source": [
    "### we would use the Plotly package to explore the prediction results.\n",
    "import os\n",
    "import sys\n",
    "import plotly.graph_objs as go\n",
    "import plotly.offline as pyo\n",
    "from plotly.offline import download_plotlyjs, init_notebook_mode, plot, iplot\n",
    "import cufflinks as cf\n",
    "import plotly.graph_objs as go"
   ]
  },
  {
   "cell_type": "code",
   "execution_count": 43,
   "metadata": {},
   "outputs": [
    {
     "data": {
      "application/vnd.plotly.v1+json": {
       "config": {
        "plotlyServerURL": "https://plot.ly"
       },
       "data": [
        {
         "labels": [
          "No",
          "Yes"
         ],
         "type": "pie",
         "values": [
          457,
          444
         ]
        }
       ],
       "layout": {
        "template": {
         "data": {
          "bar": [
           {
            "error_x": {
             "color": "#2a3f5f"
            },
            "error_y": {
             "color": "#2a3f5f"
            },
            "marker": {
             "line": {
              "color": "#E5ECF6",
              "width": 0.5
             },
             "pattern": {
              "fillmode": "overlay",
              "size": 10,
              "solidity": 0.2
             }
            },
            "type": "bar"
           }
          ],
          "barpolar": [
           {
            "marker": {
             "line": {
              "color": "#E5ECF6",
              "width": 0.5
             },
             "pattern": {
              "fillmode": "overlay",
              "size": 10,
              "solidity": 0.2
             }
            },
            "type": "barpolar"
           }
          ],
          "carpet": [
           {
            "aaxis": {
             "endlinecolor": "#2a3f5f",
             "gridcolor": "white",
             "linecolor": "white",
             "minorgridcolor": "white",
             "startlinecolor": "#2a3f5f"
            },
            "baxis": {
             "endlinecolor": "#2a3f5f",
             "gridcolor": "white",
             "linecolor": "white",
             "minorgridcolor": "white",
             "startlinecolor": "#2a3f5f"
            },
            "type": "carpet"
           }
          ],
          "choropleth": [
           {
            "colorbar": {
             "outlinewidth": 0,
             "ticks": ""
            },
            "type": "choropleth"
           }
          ],
          "contour": [
           {
            "colorbar": {
             "outlinewidth": 0,
             "ticks": ""
            },
            "colorscale": [
             [
              0,
              "#0d0887"
             ],
             [
              0.1111111111111111,
              "#46039f"
             ],
             [
              0.2222222222222222,
              "#7201a8"
             ],
             [
              0.3333333333333333,
              "#9c179e"
             ],
             [
              0.4444444444444444,
              "#bd3786"
             ],
             [
              0.5555555555555556,
              "#d8576b"
             ],
             [
              0.6666666666666666,
              "#ed7953"
             ],
             [
              0.7777777777777778,
              "#fb9f3a"
             ],
             [
              0.8888888888888888,
              "#fdca26"
             ],
             [
              1,
              "#f0f921"
             ]
            ],
            "type": "contour"
           }
          ],
          "contourcarpet": [
           {
            "colorbar": {
             "outlinewidth": 0,
             "ticks": ""
            },
            "type": "contourcarpet"
           }
          ],
          "heatmap": [
           {
            "colorbar": {
             "outlinewidth": 0,
             "ticks": ""
            },
            "colorscale": [
             [
              0,
              "#0d0887"
             ],
             [
              0.1111111111111111,
              "#46039f"
             ],
             [
              0.2222222222222222,
              "#7201a8"
             ],
             [
              0.3333333333333333,
              "#9c179e"
             ],
             [
              0.4444444444444444,
              "#bd3786"
             ],
             [
              0.5555555555555556,
              "#d8576b"
             ],
             [
              0.6666666666666666,
              "#ed7953"
             ],
             [
              0.7777777777777778,
              "#fb9f3a"
             ],
             [
              0.8888888888888888,
              "#fdca26"
             ],
             [
              1,
              "#f0f921"
             ]
            ],
            "type": "heatmap"
           }
          ],
          "heatmapgl": [
           {
            "colorbar": {
             "outlinewidth": 0,
             "ticks": ""
            },
            "colorscale": [
             [
              0,
              "#0d0887"
             ],
             [
              0.1111111111111111,
              "#46039f"
             ],
             [
              0.2222222222222222,
              "#7201a8"
             ],
             [
              0.3333333333333333,
              "#9c179e"
             ],
             [
              0.4444444444444444,
              "#bd3786"
             ],
             [
              0.5555555555555556,
              "#d8576b"
             ],
             [
              0.6666666666666666,
              "#ed7953"
             ],
             [
              0.7777777777777778,
              "#fb9f3a"
             ],
             [
              0.8888888888888888,
              "#fdca26"
             ],
             [
              1,
              "#f0f921"
             ]
            ],
            "type": "heatmapgl"
           }
          ],
          "histogram": [
           {
            "marker": {
             "pattern": {
              "fillmode": "overlay",
              "size": 10,
              "solidity": 0.2
             }
            },
            "type": "histogram"
           }
          ],
          "histogram2d": [
           {
            "colorbar": {
             "outlinewidth": 0,
             "ticks": ""
            },
            "colorscale": [
             [
              0,
              "#0d0887"
             ],
             [
              0.1111111111111111,
              "#46039f"
             ],
             [
              0.2222222222222222,
              "#7201a8"
             ],
             [
              0.3333333333333333,
              "#9c179e"
             ],
             [
              0.4444444444444444,
              "#bd3786"
             ],
             [
              0.5555555555555556,
              "#d8576b"
             ],
             [
              0.6666666666666666,
              "#ed7953"
             ],
             [
              0.7777777777777778,
              "#fb9f3a"
             ],
             [
              0.8888888888888888,
              "#fdca26"
             ],
             [
              1,
              "#f0f921"
             ]
            ],
            "type": "histogram2d"
           }
          ],
          "histogram2dcontour": [
           {
            "colorbar": {
             "outlinewidth": 0,
             "ticks": ""
            },
            "colorscale": [
             [
              0,
              "#0d0887"
             ],
             [
              0.1111111111111111,
              "#46039f"
             ],
             [
              0.2222222222222222,
              "#7201a8"
             ],
             [
              0.3333333333333333,
              "#9c179e"
             ],
             [
              0.4444444444444444,
              "#bd3786"
             ],
             [
              0.5555555555555556,
              "#d8576b"
             ],
             [
              0.6666666666666666,
              "#ed7953"
             ],
             [
              0.7777777777777778,
              "#fb9f3a"
             ],
             [
              0.8888888888888888,
              "#fdca26"
             ],
             [
              1,
              "#f0f921"
             ]
            ],
            "type": "histogram2dcontour"
           }
          ],
          "mesh3d": [
           {
            "colorbar": {
             "outlinewidth": 0,
             "ticks": ""
            },
            "type": "mesh3d"
           }
          ],
          "parcoords": [
           {
            "line": {
             "colorbar": {
              "outlinewidth": 0,
              "ticks": ""
             }
            },
            "type": "parcoords"
           }
          ],
          "pie": [
           {
            "automargin": true,
            "type": "pie"
           }
          ],
          "scatter": [
           {
            "fillpattern": {
             "fillmode": "overlay",
             "size": 10,
             "solidity": 0.2
            },
            "type": "scatter"
           }
          ],
          "scatter3d": [
           {
            "line": {
             "colorbar": {
              "outlinewidth": 0,
              "ticks": ""
             }
            },
            "marker": {
             "colorbar": {
              "outlinewidth": 0,
              "ticks": ""
             }
            },
            "type": "scatter3d"
           }
          ],
          "scattercarpet": [
           {
            "marker": {
             "colorbar": {
              "outlinewidth": 0,
              "ticks": ""
             }
            },
            "type": "scattercarpet"
           }
          ],
          "scattergeo": [
           {
            "marker": {
             "colorbar": {
              "outlinewidth": 0,
              "ticks": ""
             }
            },
            "type": "scattergeo"
           }
          ],
          "scattergl": [
           {
            "marker": {
             "colorbar": {
              "outlinewidth": 0,
              "ticks": ""
             }
            },
            "type": "scattergl"
           }
          ],
          "scattermapbox": [
           {
            "marker": {
             "colorbar": {
              "outlinewidth": 0,
              "ticks": ""
             }
            },
            "type": "scattermapbox"
           }
          ],
          "scatterpolar": [
           {
            "marker": {
             "colorbar": {
              "outlinewidth": 0,
              "ticks": ""
             }
            },
            "type": "scatterpolar"
           }
          ],
          "scatterpolargl": [
           {
            "marker": {
             "colorbar": {
              "outlinewidth": 0,
              "ticks": ""
             }
            },
            "type": "scatterpolargl"
           }
          ],
          "scatterternary": [
           {
            "marker": {
             "colorbar": {
              "outlinewidth": 0,
              "ticks": ""
             }
            },
            "type": "scatterternary"
           }
          ],
          "surface": [
           {
            "colorbar": {
             "outlinewidth": 0,
             "ticks": ""
            },
            "colorscale": [
             [
              0,
              "#0d0887"
             ],
             [
              0.1111111111111111,
              "#46039f"
             ],
             [
              0.2222222222222222,
              "#7201a8"
             ],
             [
              0.3333333333333333,
              "#9c179e"
             ],
             [
              0.4444444444444444,
              "#bd3786"
             ],
             [
              0.5555555555555556,
              "#d8576b"
             ],
             [
              0.6666666666666666,
              "#ed7953"
             ],
             [
              0.7777777777777778,
              "#fb9f3a"
             ],
             [
              0.8888888888888888,
              "#fdca26"
             ],
             [
              1,
              "#f0f921"
             ]
            ],
            "type": "surface"
           }
          ],
          "table": [
           {
            "cells": {
             "fill": {
              "color": "#EBF0F8"
             },
             "line": {
              "color": "white"
             }
            },
            "header": {
             "fill": {
              "color": "#C8D4E3"
             },
             "line": {
              "color": "white"
             }
            },
            "type": "table"
           }
          ]
         },
         "layout": {
          "annotationdefaults": {
           "arrowcolor": "#2a3f5f",
           "arrowhead": 0,
           "arrowwidth": 1
          },
          "autotypenumbers": "strict",
          "coloraxis": {
           "colorbar": {
            "outlinewidth": 0,
            "ticks": ""
           }
          },
          "colorscale": {
           "diverging": [
            [
             0,
             "#8e0152"
            ],
            [
             0.1,
             "#c51b7d"
            ],
            [
             0.2,
             "#de77ae"
            ],
            [
             0.3,
             "#f1b6da"
            ],
            [
             0.4,
             "#fde0ef"
            ],
            [
             0.5,
             "#f7f7f7"
            ],
            [
             0.6,
             "#e6f5d0"
            ],
            [
             0.7,
             "#b8e186"
            ],
            [
             0.8,
             "#7fbc41"
            ],
            [
             0.9,
             "#4d9221"
            ],
            [
             1,
             "#276419"
            ]
           ],
           "sequential": [
            [
             0,
             "#0d0887"
            ],
            [
             0.1111111111111111,
             "#46039f"
            ],
            [
             0.2222222222222222,
             "#7201a8"
            ],
            [
             0.3333333333333333,
             "#9c179e"
            ],
            [
             0.4444444444444444,
             "#bd3786"
            ],
            [
             0.5555555555555556,
             "#d8576b"
            ],
            [
             0.6666666666666666,
             "#ed7953"
            ],
            [
             0.7777777777777778,
             "#fb9f3a"
            ],
            [
             0.8888888888888888,
             "#fdca26"
            ],
            [
             1,
             "#f0f921"
            ]
           ],
           "sequentialminus": [
            [
             0,
             "#0d0887"
            ],
            [
             0.1111111111111111,
             "#46039f"
            ],
            [
             0.2222222222222222,
             "#7201a8"
            ],
            [
             0.3333333333333333,
             "#9c179e"
            ],
            [
             0.4444444444444444,
             "#bd3786"
            ],
            [
             0.5555555555555556,
             "#d8576b"
            ],
            [
             0.6666666666666666,
             "#ed7953"
            ],
            [
             0.7777777777777778,
             "#fb9f3a"
            ],
            [
             0.8888888888888888,
             "#fdca26"
            ],
            [
             1,
             "#f0f921"
            ]
           ]
          },
          "colorway": [
           "#636efa",
           "#EF553B",
           "#00cc96",
           "#ab63fa",
           "#FFA15A",
           "#19d3f3",
           "#FF6692",
           "#B6E880",
           "#FF97FF",
           "#FECB52"
          ],
          "font": {
           "color": "#2a3f5f"
          },
          "geo": {
           "bgcolor": "white",
           "lakecolor": "white",
           "landcolor": "#E5ECF6",
           "showlakes": true,
           "showland": true,
           "subunitcolor": "white"
          },
          "hoverlabel": {
           "align": "left"
          },
          "hovermode": "closest",
          "mapbox": {
           "style": "light"
          },
          "paper_bgcolor": "white",
          "plot_bgcolor": "#E5ECF6",
          "polar": {
           "angularaxis": {
            "gridcolor": "white",
            "linecolor": "white",
            "ticks": ""
           },
           "bgcolor": "#E5ECF6",
           "radialaxis": {
            "gridcolor": "white",
            "linecolor": "white",
            "ticks": ""
           }
          },
          "scene": {
           "xaxis": {
            "backgroundcolor": "#E5ECF6",
            "gridcolor": "white",
            "gridwidth": 2,
            "linecolor": "white",
            "showbackground": true,
            "ticks": "",
            "zerolinecolor": "white"
           },
           "yaxis": {
            "backgroundcolor": "#E5ECF6",
            "gridcolor": "white",
            "gridwidth": 2,
            "linecolor": "white",
            "showbackground": true,
            "ticks": "",
            "zerolinecolor": "white"
           },
           "zaxis": {
            "backgroundcolor": "#E5ECF6",
            "gridcolor": "white",
            "gridwidth": 2,
            "linecolor": "white",
            "showbackground": true,
            "ticks": "",
            "zerolinecolor": "white"
           }
          },
          "shapedefaults": {
           "line": {
            "color": "#2a3f5f"
           }
          },
          "ternary": {
           "aaxis": {
            "gridcolor": "white",
            "linecolor": "white",
            "ticks": ""
           },
           "baxis": {
            "gridcolor": "white",
            "linecolor": "white",
            "ticks": ""
           },
           "bgcolor": "#E5ECF6",
           "caxis": {
            "gridcolor": "white",
            "linecolor": "white",
            "ticks": ""
           }
          },
          "title": {
           "x": 0.05
          },
          "xaxis": {
           "automargin": true,
           "gridcolor": "white",
           "linecolor": "white",
           "ticks": "",
           "title": {
            "standoff": 15
           },
           "zerolinecolor": "white",
           "zerolinewidth": 2
          },
          "yaxis": {
           "automargin": true,
           "gridcolor": "white",
           "linecolor": "white",
           "ticks": "",
           "title": {
            "standoff": 15
           },
           "zerolinecolor": "white",
           "zerolinewidth": 2
          }
         }
        },
        "title": {
         "text": "Churn"
        }
       }
      }
     },
     "metadata": {},
     "output_type": "display_data"
    }
   ],
   "source": [
    "# Plot a pie chart that shows the predicted churn split by Contract and MonthlyCharges.\n",
    "cumulative_stats = predictions.groupby(['label']).count()\n",
    "labels_data_plot = ['No','Yes']\n",
    "values_data_plot = [cumulative_stats.select('count').collect()[x][0] for x in range(2)]\n",
    "\n",
    "product_data = [\n",
    "    {\n",
    "        'type': 'pie',\n",
    "        'labels': labels_data_plot,\n",
    "        'values': values_data_plot,\n",
    "    }\n",
    "]\n",
    "product_layout = { 'title': 'Churn'}\n",
    "\n",
    "fig = go.Figure(data=product_data, layout=product_layout)\n",
    "fig.show()"
   ]
  },
  {
   "attachments": {},
   "cell_type": "markdown",
   "metadata": {},
   "source": [
    "    From the above pie chart, the number of customers who didn't churn is 50.7% compared to the number that churned which is 49.3%. It implies that if not resolved, almost half of the company's revenue will be lost."
   ]
  },
  {
   "cell_type": "code",
   "execution_count": 57,
   "metadata": {},
   "outputs": [
    {
     "data": {
      "application/vnd.plotly.v1+json": {
       "config": {
        "linkText": "Export to plot.ly",
        "plotlyServerURL": "https://plot.ly",
        "showLink": false
       },
       "data": [
        {
         "type": "bar",
         "x": [
          "No",
          "Yes"
         ],
         "y": [
          4.096755086234755,
          6.13502681426236
         ]
        }
       ],
       "layout": {
        "template": {
         "data": {
          "bar": [
           {
            "error_x": {
             "color": "#2a3f5f"
            },
            "error_y": {
             "color": "#2a3f5f"
            },
            "marker": {
             "line": {
              "color": "#E5ECF6",
              "width": 0.5
             },
             "pattern": {
              "fillmode": "overlay",
              "size": 10,
              "solidity": 0.2
             }
            },
            "type": "bar"
           }
          ],
          "barpolar": [
           {
            "marker": {
             "line": {
              "color": "#E5ECF6",
              "width": 0.5
             },
             "pattern": {
              "fillmode": "overlay",
              "size": 10,
              "solidity": 0.2
             }
            },
            "type": "barpolar"
           }
          ],
          "carpet": [
           {
            "aaxis": {
             "endlinecolor": "#2a3f5f",
             "gridcolor": "white",
             "linecolor": "white",
             "minorgridcolor": "white",
             "startlinecolor": "#2a3f5f"
            },
            "baxis": {
             "endlinecolor": "#2a3f5f",
             "gridcolor": "white",
             "linecolor": "white",
             "minorgridcolor": "white",
             "startlinecolor": "#2a3f5f"
            },
            "type": "carpet"
           }
          ],
          "choropleth": [
           {
            "colorbar": {
             "outlinewidth": 0,
             "ticks": ""
            },
            "type": "choropleth"
           }
          ],
          "contour": [
           {
            "colorbar": {
             "outlinewidth": 0,
             "ticks": ""
            },
            "colorscale": [
             [
              0,
              "#0d0887"
             ],
             [
              0.1111111111111111,
              "#46039f"
             ],
             [
              0.2222222222222222,
              "#7201a8"
             ],
             [
              0.3333333333333333,
              "#9c179e"
             ],
             [
              0.4444444444444444,
              "#bd3786"
             ],
             [
              0.5555555555555556,
              "#d8576b"
             ],
             [
              0.6666666666666666,
              "#ed7953"
             ],
             [
              0.7777777777777778,
              "#fb9f3a"
             ],
             [
              0.8888888888888888,
              "#fdca26"
             ],
             [
              1,
              "#f0f921"
             ]
            ],
            "type": "contour"
           }
          ],
          "contourcarpet": [
           {
            "colorbar": {
             "outlinewidth": 0,
             "ticks": ""
            },
            "type": "contourcarpet"
           }
          ],
          "heatmap": [
           {
            "colorbar": {
             "outlinewidth": 0,
             "ticks": ""
            },
            "colorscale": [
             [
              0,
              "#0d0887"
             ],
             [
              0.1111111111111111,
              "#46039f"
             ],
             [
              0.2222222222222222,
              "#7201a8"
             ],
             [
              0.3333333333333333,
              "#9c179e"
             ],
             [
              0.4444444444444444,
              "#bd3786"
             ],
             [
              0.5555555555555556,
              "#d8576b"
             ],
             [
              0.6666666666666666,
              "#ed7953"
             ],
             [
              0.7777777777777778,
              "#fb9f3a"
             ],
             [
              0.8888888888888888,
              "#fdca26"
             ],
             [
              1,
              "#f0f921"
             ]
            ],
            "type": "heatmap"
           }
          ],
          "heatmapgl": [
           {
            "colorbar": {
             "outlinewidth": 0,
             "ticks": ""
            },
            "colorscale": [
             [
              0,
              "#0d0887"
             ],
             [
              0.1111111111111111,
              "#46039f"
             ],
             [
              0.2222222222222222,
              "#7201a8"
             ],
             [
              0.3333333333333333,
              "#9c179e"
             ],
             [
              0.4444444444444444,
              "#bd3786"
             ],
             [
              0.5555555555555556,
              "#d8576b"
             ],
             [
              0.6666666666666666,
              "#ed7953"
             ],
             [
              0.7777777777777778,
              "#fb9f3a"
             ],
             [
              0.8888888888888888,
              "#fdca26"
             ],
             [
              1,
              "#f0f921"
             ]
            ],
            "type": "heatmapgl"
           }
          ],
          "histogram": [
           {
            "marker": {
             "pattern": {
              "fillmode": "overlay",
              "size": 10,
              "solidity": 0.2
             }
            },
            "type": "histogram"
           }
          ],
          "histogram2d": [
           {
            "colorbar": {
             "outlinewidth": 0,
             "ticks": ""
            },
            "colorscale": [
             [
              0,
              "#0d0887"
             ],
             [
              0.1111111111111111,
              "#46039f"
             ],
             [
              0.2222222222222222,
              "#7201a8"
             ],
             [
              0.3333333333333333,
              "#9c179e"
             ],
             [
              0.4444444444444444,
              "#bd3786"
             ],
             [
              0.5555555555555556,
              "#d8576b"
             ],
             [
              0.6666666666666666,
              "#ed7953"
             ],
             [
              0.7777777777777778,
              "#fb9f3a"
             ],
             [
              0.8888888888888888,
              "#fdca26"
             ],
             [
              1,
              "#f0f921"
             ]
            ],
            "type": "histogram2d"
           }
          ],
          "histogram2dcontour": [
           {
            "colorbar": {
             "outlinewidth": 0,
             "ticks": ""
            },
            "colorscale": [
             [
              0,
              "#0d0887"
             ],
             [
              0.1111111111111111,
              "#46039f"
             ],
             [
              0.2222222222222222,
              "#7201a8"
             ],
             [
              0.3333333333333333,
              "#9c179e"
             ],
             [
              0.4444444444444444,
              "#bd3786"
             ],
             [
              0.5555555555555556,
              "#d8576b"
             ],
             [
              0.6666666666666666,
              "#ed7953"
             ],
             [
              0.7777777777777778,
              "#fb9f3a"
             ],
             [
              0.8888888888888888,
              "#fdca26"
             ],
             [
              1,
              "#f0f921"
             ]
            ],
            "type": "histogram2dcontour"
           }
          ],
          "mesh3d": [
           {
            "colorbar": {
             "outlinewidth": 0,
             "ticks": ""
            },
            "type": "mesh3d"
           }
          ],
          "parcoords": [
           {
            "line": {
             "colorbar": {
              "outlinewidth": 0,
              "ticks": ""
             }
            },
            "type": "parcoords"
           }
          ],
          "pie": [
           {
            "automargin": true,
            "type": "pie"
           }
          ],
          "scatter": [
           {
            "fillpattern": {
             "fillmode": "overlay",
             "size": 10,
             "solidity": 0.2
            },
            "type": "scatter"
           }
          ],
          "scatter3d": [
           {
            "line": {
             "colorbar": {
              "outlinewidth": 0,
              "ticks": ""
             }
            },
            "marker": {
             "colorbar": {
              "outlinewidth": 0,
              "ticks": ""
             }
            },
            "type": "scatter3d"
           }
          ],
          "scattercarpet": [
           {
            "marker": {
             "colorbar": {
              "outlinewidth": 0,
              "ticks": ""
             }
            },
            "type": "scattercarpet"
           }
          ],
          "scattergeo": [
           {
            "marker": {
             "colorbar": {
              "outlinewidth": 0,
              "ticks": ""
             }
            },
            "type": "scattergeo"
           }
          ],
          "scattergl": [
           {
            "marker": {
             "colorbar": {
              "outlinewidth": 0,
              "ticks": ""
             }
            },
            "type": "scattergl"
           }
          ],
          "scattermapbox": [
           {
            "marker": {
             "colorbar": {
              "outlinewidth": 0,
              "ticks": ""
             }
            },
            "type": "scattermapbox"
           }
          ],
          "scatterpolar": [
           {
            "marker": {
             "colorbar": {
              "outlinewidth": 0,
              "ticks": ""
             }
            },
            "type": "scatterpolar"
           }
          ],
          "scatterpolargl": [
           {
            "marker": {
             "colorbar": {
              "outlinewidth": 0,
              "ticks": ""
             }
            },
            "type": "scatterpolargl"
           }
          ],
          "scatterternary": [
           {
            "marker": {
             "colorbar": {
              "outlinewidth": 0,
              "ticks": ""
             }
            },
            "type": "scatterternary"
           }
          ],
          "surface": [
           {
            "colorbar": {
             "outlinewidth": 0,
             "ticks": ""
            },
            "colorscale": [
             [
              0,
              "#0d0887"
             ],
             [
              0.1111111111111111,
              "#46039f"
             ],
             [
              0.2222222222222222,
              "#7201a8"
             ],
             [
              0.3333333333333333,
              "#9c179e"
             ],
             [
              0.4444444444444444,
              "#bd3786"
             ],
             [
              0.5555555555555556,
              "#d8576b"
             ],
             [
              0.6666666666666666,
              "#ed7953"
             ],
             [
              0.7777777777777778,
              "#fb9f3a"
             ],
             [
              0.8888888888888888,
              "#fdca26"
             ],
             [
              1,
              "#f0f921"
             ]
            ],
            "type": "surface"
           }
          ],
          "table": [
           {
            "cells": {
             "fill": {
              "color": "#EBF0F8"
             },
             "line": {
              "color": "white"
             }
            },
            "header": {
             "fill": {
              "color": "#C8D4E3"
             },
             "line": {
              "color": "white"
             }
            },
            "type": "table"
           }
          ]
         },
         "layout": {
          "annotationdefaults": {
           "arrowcolor": "#2a3f5f",
           "arrowhead": 0,
           "arrowwidth": 1
          },
          "autotypenumbers": "strict",
          "coloraxis": {
           "colorbar": {
            "outlinewidth": 0,
            "ticks": ""
           }
          },
          "colorscale": {
           "diverging": [
            [
             0,
             "#8e0152"
            ],
            [
             0.1,
             "#c51b7d"
            ],
            [
             0.2,
             "#de77ae"
            ],
            [
             0.3,
             "#f1b6da"
            ],
            [
             0.4,
             "#fde0ef"
            ],
            [
             0.5,
             "#f7f7f7"
            ],
            [
             0.6,
             "#e6f5d0"
            ],
            [
             0.7,
             "#b8e186"
            ],
            [
             0.8,
             "#7fbc41"
            ],
            [
             0.9,
             "#4d9221"
            ],
            [
             1,
             "#276419"
            ]
           ],
           "sequential": [
            [
             0,
             "#0d0887"
            ],
            [
             0.1111111111111111,
             "#46039f"
            ],
            [
             0.2222222222222222,
             "#7201a8"
            ],
            [
             0.3333333333333333,
             "#9c179e"
            ],
            [
             0.4444444444444444,
             "#bd3786"
            ],
            [
             0.5555555555555556,
             "#d8576b"
            ],
            [
             0.6666666666666666,
             "#ed7953"
            ],
            [
             0.7777777777777778,
             "#fb9f3a"
            ],
            [
             0.8888888888888888,
             "#fdca26"
            ],
            [
             1,
             "#f0f921"
            ]
           ],
           "sequentialminus": [
            [
             0,
             "#0d0887"
            ],
            [
             0.1111111111111111,
             "#46039f"
            ],
            [
             0.2222222222222222,
             "#7201a8"
            ],
            [
             0.3333333333333333,
             "#9c179e"
            ],
            [
             0.4444444444444444,
             "#bd3786"
            ],
            [
             0.5555555555555556,
             "#d8576b"
            ],
            [
             0.6666666666666666,
             "#ed7953"
            ],
            [
             0.7777777777777778,
             "#fb9f3a"
            ],
            [
             0.8888888888888888,
             "#fdca26"
            ],
            [
             1,
             "#f0f921"
            ]
           ]
          },
          "colorway": [
           "#636efa",
           "#EF553B",
           "#00cc96",
           "#ab63fa",
           "#FFA15A",
           "#19d3f3",
           "#FF6692",
           "#B6E880",
           "#FF97FF",
           "#FECB52"
          ],
          "font": {
           "color": "#2a3f5f"
          },
          "geo": {
           "bgcolor": "white",
           "lakecolor": "white",
           "landcolor": "#E5ECF6",
           "showlakes": true,
           "showland": true,
           "subunitcolor": "white"
          },
          "hoverlabel": {
           "align": "left"
          },
          "hovermode": "closest",
          "mapbox": {
           "style": "light"
          },
          "paper_bgcolor": "white",
          "plot_bgcolor": "#E5ECF6",
          "polar": {
           "angularaxis": {
            "gridcolor": "white",
            "linecolor": "white",
            "ticks": ""
           },
           "bgcolor": "#E5ECF6",
           "radialaxis": {
            "gridcolor": "white",
            "linecolor": "white",
            "ticks": ""
           }
          },
          "scene": {
           "xaxis": {
            "backgroundcolor": "#E5ECF6",
            "gridcolor": "white",
            "gridwidth": 2,
            "linecolor": "white",
            "showbackground": true,
            "ticks": "",
            "zerolinecolor": "white"
           },
           "yaxis": {
            "backgroundcolor": "#E5ECF6",
            "gridcolor": "white",
            "gridwidth": 2,
            "linecolor": "white",
            "showbackground": true,
            "ticks": "",
            "zerolinecolor": "white"
           },
           "zaxis": {
            "backgroundcolor": "#E5ECF6",
            "gridcolor": "white",
            "gridwidth": 2,
            "linecolor": "white",
            "showbackground": true,
            "ticks": "",
            "zerolinecolor": "white"
           }
          },
          "shapedefaults": {
           "line": {
            "color": "#2a3f5f"
           }
          },
          "ternary": {
           "aaxis": {
            "gridcolor": "white",
            "linecolor": "white",
            "ticks": ""
           },
           "baxis": {
            "gridcolor": "white",
            "linecolor": "white",
            "ticks": ""
           },
           "bgcolor": "#E5ECF6",
           "caxis": {
            "gridcolor": "white",
            "linecolor": "white",
            "ticks": ""
           }
          },
          "title": {
           "x": 0.05
          },
          "xaxis": {
           "automargin": true,
           "gridcolor": "white",
           "linecolor": "white",
           "ticks": "",
           "title": {
            "standoff": 15
           },
           "zerolinecolor": "white",
           "zerolinewidth": 2
          },
          "yaxis": {
           "automargin": true,
           "gridcolor": "white",
           "linecolor": "white",
           "ticks": "",
           "title": {
            "standoff": 15
           },
           "zerolinecolor": "white",
           "zerolinewidth": 2
          }
         }
        },
        "title": {
         "text": "Average Day Charges per churn class"
        },
        "xaxis": {
         "showline": false,
         "title": {
          "text": "Churn"
         }
        },
        "yaxis": {
         "title": {
          "text": "Day Charges"
         }
        }
       }
      }
     },
     "metadata": {},
     "output_type": "display_data"
    }
   ],
   "source": [
    "# calculate mean daily charges by churn class using pandas groupby method\n",
    "mean_charges = [predictions.groupby(['label']).mean().collect()[x][6] for x in range(2)]\n",
    "age_data = [go.Bar(y= mean_charges,x= labels_data_plot)]\n",
    "\n",
    "# customize chart layout using Plotly's Layout object\n",
    "age_layout = go.Layout(\n",
    "    title='Average Day Charges per churn class',\n",
    "    xaxis=dict(title = \"Churn\",showline=False,),\n",
    "    yaxis=dict(title = \"Day Charges\",),)\n",
    "\n",
    "# create a figure object and plot it with iplot() function from Plotly's offline module\n",
    "fig = go.Figure(data=age_data, layout=age_layout)\n",
    "iplot(fig)"
   ]
  },
  {
   "attachments": {},
   "cell_type": "markdown",
   "metadata": {},
   "source": [
    "    The churned customers are charged more daily compared to the remaining customers."
   ]
  }
 ],
 "metadata": {
  "anaconda-cloud": {},
  "kernelspec": {
   "display_name": "base",
   "language": "python",
   "name": "python3"
  },
  "language_info": {
   "codemirror_mode": {
    "name": "ipython",
    "version": 3
   },
   "file_extension": ".py",
   "mimetype": "text/x-python",
   "name": "python",
   "nbconvert_exporter": "python",
   "pygments_lexer": "ipython3",
   "version": "3.8.8"
  }
 },
 "nbformat": 4,
 "nbformat_minor": 0
}
